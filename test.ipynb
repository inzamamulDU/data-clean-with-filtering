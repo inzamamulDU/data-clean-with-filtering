{
 "cells": [
  {
   "cell_type": "code",
   "execution_count": 1,
   "metadata": {},
   "outputs": [],
   "source": [
    "import pandas as pd"
   ]
  },
  {
   "cell_type": "code",
   "execution_count": 2,
   "metadata": {},
   "outputs": [],
   "source": [
    "df_porn = pd.read_csv(\"porn.host.srv\",skiprows= 10,header = None,error_bad_lines = True)\n",
    "df_botnetcc = pd.read_csv(\"botnetcc.host.dtq\",skiprows= 10,header = None,error_bad_lines = True)\n",
    "df_botnet = pd.read_csv(\"botnet.host.dtq\",skiprows= 10,header = None,error_bad_lines = True)"
   ]
  },
  {
   "cell_type": "code",
   "execution_count": 3,
   "metadata": {},
   "outputs": [],
   "source": [
    "df_porn =df_porn[~df_porn[0].str.contains('CNAME', na=False)]\n",
    "df_botnetcc =df_botnetcc[~df_botnetcc[0].str.contains('CNAME', na=False)]\n",
    "df_botnet =df_botnet[~df_botnet[0].str.contains('CNAME', na=False)]"
   ]
  },
  {
   "cell_type": "code",
   "execution_count": 4,
   "metadata": {},
   "outputs": [],
   "source": [
    "df_porn =df_porn[~df_porn[0].str.contains('rpz-ip', na=False)]\n",
    "df_botnetcc =df_botnetcc[~df_botnetcc[0].str.contains('rpz-ip', na=False)]\n",
    "df_botnet =df_botnet[~df_botnet[0].str.contains('rpz-ip', na=False)]"
   ]
  },
  {
   "cell_type": "code",
   "execution_count": 5,
   "metadata": {},
   "outputs": [],
   "source": [
    "df_porn.reset_index(inplace= True)\n",
    "df_botnetcc.reset_index(inplace= True)\n",
    "df_botnet.reset_index(inplace= True)"
   ]
  },
  {
   "cell_type": "code",
   "execution_count": 6,
   "metadata": {},
   "outputs": [],
   "source": [
    "df_porn=df_porn[df_porn.index % 2 != 0]\n",
    "df_botnetcc=df_botnetcc[df_botnetcc.index % 2 != 0]\n",
    "df_botnet=df_botnet[df_botnet.index % 2 != 0]"
   ]
  },
  {
   "cell_type": "code",
   "execution_count": 7,
   "metadata": {},
   "outputs": [],
   "source": [
    "def split(x):\n",
    "    a = str(x).split(\" \")[1]\n",
    "    b = str(a).split(\".\")[:-4]\n",
    "    b = \".\".join(b)\n",
    "    return b"
   ]
  },
  {
   "cell_type": "code",
   "execution_count": 8,
   "metadata": {},
   "outputs": [],
   "source": [
    "df_porn[0]= df_porn[0].apply(split)\n",
    "df_botnetcc[0]= df_botnetcc[0].apply(split)\n",
    "df_botnet[0]= df_botnet[0].apply(split)"
   ]
  },
  {
   "cell_type": "code",
   "execution_count": 9,
   "metadata": {},
   "outputs": [],
   "source": [
    "df_porn.drop(['index'],axis = 1,inplace = True)\n",
    "df_botnetcc.drop(['index'],axis = 1,inplace = True)\n",
    "df_botnet.drop(['index'],axis = 1,inplace = True)"
   ]
  },
  {
   "cell_type": "code",
   "execution_count": 81,
   "metadata": {},
   "outputs": [],
   "source": [
    "df_porn.to_csv(\"porn.host.csv\",index=False, header= None)\n",
    "df_botnetcc.to_csv(\"botnetcc.csv\",index=False, header= None)\n",
    "df_botnet.to_csv(\"botnet.csv\",index=False, header= None)"
   ]
  },
  {
   "cell_type": "code",
   "execution_count": 30,
   "metadata": {},
   "outputs": [],
   "source": [
    "a=df[0].tolist()"
   ]
  },
  {
   "cell_type": "code",
   "execution_count": 32,
   "metadata": {},
   "outputs": [],
   "source": [
    "with open('mark.txt', 'w+') as f:\n",
    "    for item in a:\n",
    "        f.write(\"%s,\" % item)"
   ]
  },
  {
   "cell_type": "code",
   "execution_count": 13,
   "metadata": {},
   "outputs": [],
   "source": [
    "df.to_csv(\"final.csv\")"
   ]
  },
  {
   "cell_type": "code",
   "execution_count": 88,
   "metadata": {},
   "outputs": [
    {
     "data": {
      "text/html": [
       "<div>\n",
       "<style scoped>\n",
       "    .dataframe tbody tr th:only-of-type {\n",
       "        vertical-align: middle;\n",
       "    }\n",
       "\n",
       "    .dataframe tbody tr th {\n",
       "        vertical-align: top;\n",
       "    }\n",
       "\n",
       "    .dataframe thead th {\n",
       "        text-align: right;\n",
       "    }\n",
       "</style>\n",
       "<table border=\"1\" class=\"dataframe\">\n",
       "  <thead>\n",
       "    <tr style=\"text-align: right;\">\n",
       "      <th></th>\n",
       "      <th>0</th>\n",
       "    </tr>\n",
       "  </thead>\n",
       "  <tbody>\n",
       "    <tr>\n",
       "      <th>1</th>\n",
       "      <td>92q.ag</td>\n",
       "    </tr>\n",
       "    <tr>\n",
       "      <th>3</th>\n",
       "      <td>liamnissonsd.agency</td>\n",
       "    </tr>\n",
       "    <tr>\n",
       "      <th>5</th>\n",
       "      <td>runjs.app</td>\n",
       "    </tr>\n",
       "    <tr>\n",
       "      <th>7</th>\n",
       "      <td>controlek01.asia</td>\n",
       "    </tr>\n",
       "    <tr>\n",
       "      <th>9</th>\n",
       "      <td>vamos2017agora.asia</td>\n",
       "    </tr>\n",
       "    <tr>\n",
       "      <th>...</th>\n",
       "      <td>...</td>\n",
       "    </tr>\n",
       "    <tr>\n",
       "      <th>38629</th>\n",
       "      <td>xeasunny13.xyz</td>\n",
       "    </tr>\n",
       "    <tr>\n",
       "      <th>38631</th>\n",
       "      <td>xjustusia37.xyz</td>\n",
       "    </tr>\n",
       "    <tr>\n",
       "      <th>38633</th>\n",
       "      <td>ziobrotykurwo.xyz</td>\n",
       "    </tr>\n",
       "    <tr>\n",
       "      <th>38635</th>\n",
       "      <td>netshivhumbetraders.co.za</td>\n",
       "    </tr>\n",
       "    <tr>\n",
       "      <th>38637</th>\n",
       "      <td>muebles.zone</td>\n",
       "    </tr>\n",
       "  </tbody>\n",
       "</table>\n",
       "<p>19319 rows × 1 columns</p>\n",
       "</div>"
      ],
      "text/plain": [
       "                               0\n",
       "1                         92q.ag\n",
       "3            liamnissonsd.agency\n",
       "5                      runjs.app\n",
       "7               controlek01.asia\n",
       "9            vamos2017agora.asia\n",
       "...                          ...\n",
       "38629             xeasunny13.xyz\n",
       "38631            xjustusia37.xyz\n",
       "38633          ziobrotykurwo.xyz\n",
       "38635  netshivhumbetraders.co.za\n",
       "38637               muebles.zone\n",
       "\n",
       "[19319 rows x 1 columns]"
      ]
     },
     "execution_count": 88,
     "metadata": {},
     "output_type": "execute_result"
    }
   ],
   "source": [
    "df_botnetcc"
   ]
  },
  {
   "cell_type": "code",
   "execution_count": 10,
   "metadata": {},
   "outputs": [],
   "source": [
    "df_1notin2 = df_botnetcc[(df_botnetcc[0].isin(df_porn[0]))].reset_index(drop=True)\n",
    "df_1notin2.to_csv(\"botnetcc1.txt\",index = False, header = 0)"
   ]
  },
  {
   "cell_type": "code",
   "execution_count": 11,
   "metadata": {},
   "outputs": [],
   "source": [
    "df_3notin2 = df_botnet[(df_botnet[0].isin(df_porn[0]))].reset_index(drop=True)\n",
    "df_3notin2.to_csv(\"botnet1.txt\",index = False, header = 0)"
   ]
  },
  {
   "cell_type": "code",
   "execution_count": null,
   "metadata": {},
   "outputs": [],
   "source": []
  }
 ],
 "metadata": {
  "kernelspec": {
   "display_name": "Python 3",
   "language": "python",
   "name": "python3"
  },
  "language_info": {
   "codemirror_mode": {
    "name": "ipython",
    "version": 3
   },
   "file_extension": ".py",
   "mimetype": "text/x-python",
   "name": "python",
   "nbconvert_exporter": "python",
   "pygments_lexer": "ipython3",
   "version": "3.8.3"
  }
 },
 "nbformat": 4,
 "nbformat_minor": 4
}
