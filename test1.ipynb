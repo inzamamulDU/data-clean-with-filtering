{
 "cells": [
  {
   "cell_type": "code",
   "execution_count": 1,
   "metadata": {},
   "outputs": [],
   "source": [
    "import pandas as pd"
   ]
  },
  {
   "cell_type": "code",
   "execution_count": 2,
   "metadata": {},
   "outputs": [],
   "source": [
    "def split(x):\n",
    "    a = str(x).split(\" \")[1]\n",
    "    b = str(a).split(\".\")[:-4]\n",
    "    b = \".\".join(b)\n",
    "    return b"
   ]
  },
  {
   "cell_type": "code",
   "execution_count": 3,
   "metadata": {},
   "outputs": [],
   "source": [
    "def split_mal(x):\n",
    "    a = str(x).split(\" \")[0]\n",
    "    return a"
   ]
  },
  {
   "cell_type": "code",
   "execution_count": 4,
   "metadata": {},
   "outputs": [],
   "source": [
    "df_porn = pd.read_csv(\"porn.host.srv\",skiprows= 10,header = None,error_bad_lines = True)\n",
    "df_mal = pd.read_csv(\"malware_domains.txt\",skiprows= 1,header = None,error_bad_lines = True)"
   ]
  },
  {
   "cell_type": "code",
   "execution_count": 6,
   "metadata": {},
   "outputs": [],
   "source": [
    "df_porn =df_porn[~df_porn[0].str.contains('CNAME', na=False)]\n",
    "df_porn =df_porn[~df_porn[0].str.contains('rpz-ip', na=False)]\n",
    "df_porn.reset_index(inplace= True)\n",
    "df_porn=df_porn[df_porn.index % 2 != 0]\n",
    "df_porn[0]= df_porn[0].apply(split)\n",
    "df_porn.drop(['index'],axis = 1,inplace = True)\n",
    "df_porn.to_csv(\"porn.host.csv\",index=False, header= None)"
   ]
  },
  {
   "cell_type": "code",
   "execution_count": 7,
   "metadata": {},
   "outputs": [
    {
     "data": {
      "text/html": [
       "<div>\n",
       "<style scoped>\n",
       "    .dataframe tbody tr th:only-of-type {\n",
       "        vertical-align: middle;\n",
       "    }\n",
       "\n",
       "    .dataframe tbody tr th {\n",
       "        vertical-align: top;\n",
       "    }\n",
       "\n",
       "    .dataframe thead th {\n",
       "        text-align: right;\n",
       "    }\n",
       "</style>\n",
       "<table border=\"1\" class=\"dataframe\">\n",
       "  <thead>\n",
       "    <tr style=\"text-align: right;\">\n",
       "      <th></th>\n",
       "      <th>0</th>\n",
       "    </tr>\n",
       "  </thead>\n",
       "  <tbody>\n",
       "    <tr>\n",
       "      <th>0</th>\n",
       "      <td>0-0-0-0-0-0-0-0-0-0-0-0-0-3-0-0-0-0-0-0-0-0-0-...</td>\n",
       "    </tr>\n",
       "    <tr>\n",
       "      <th>1</th>\n",
       "      <td>0020f2af7027f.org</td>\n",
       "    </tr>\n",
       "    <tr>\n",
       "      <th>2</th>\n",
       "      <td>00adf1b4.top</td>\n",
       "    </tr>\n",
       "    <tr>\n",
       "      <th>3</th>\n",
       "      <td>0156ac305cfd3eeea8d6e2dcd9174ae4.com</td>\n",
       "    </tr>\n",
       "    <tr>\n",
       "      <th>4</th>\n",
       "      <td>023minjian.com</td>\n",
       "    </tr>\n",
       "    <tr>\n",
       "      <th>...</th>\n",
       "      <td>...</td>\n",
       "    </tr>\n",
       "    <tr>\n",
       "      <th>16663</th>\n",
       "      <td>zzthmqkojceqbadiztkjpvqsmr.info</td>\n",
       "    </tr>\n",
       "    <tr>\n",
       "      <th>16664</th>\n",
       "      <td>zztlzpheylgqhqjfnbrwoyxytud.org</td>\n",
       "    </tr>\n",
       "    <tr>\n",
       "      <th>16665</th>\n",
       "      <td>zzythenjtgqzdlveabubogm.org</td>\n",
       "    </tr>\n",
       "    <tr>\n",
       "      <th>16666</th>\n",
       "      <td>zzz1.in</td>\n",
       "    </tr>\n",
       "    <tr>\n",
       "      <th>16667</th>\n",
       "      <td>#</td>\n",
       "    </tr>\n",
       "  </tbody>\n",
       "</table>\n",
       "<p>16668 rows × 1 columns</p>\n",
       "</div>"
      ],
      "text/plain": [
       "                                                       0\n",
       "0      0-0-0-0-0-0-0-0-0-0-0-0-0-3-0-0-0-0-0-0-0-0-0-...\n",
       "1                                      0020f2af7027f.org\n",
       "2                                           00adf1b4.top\n",
       "3                   0156ac305cfd3eeea8d6e2dcd9174ae4.com\n",
       "4                                         023minjian.com\n",
       "...                                                  ...\n",
       "16663                    zzthmqkojceqbadiztkjpvqsmr.info\n",
       "16664                    zztlzpheylgqhqjfnbrwoyxytud.org\n",
       "16665                        zzythenjtgqzdlveabubogm.org\n",
       "16666                                            zzz1.in\n",
       "16667                                                  #\n",
       "\n",
       "[16668 rows x 1 columns]"
      ]
     },
     "execution_count": 7,
     "metadata": {},
     "output_type": "execute_result"
    }
   ],
   "source": [
    "df_mal[0]= df_mal[0].apply(split_mal)"
   ]
  },
  {
   "cell_type": "code",
   "execution_count": 9,
   "metadata": {},
   "outputs": [],
   "source": [
    "df_1notin2 = df_mal[(df_mal[0].isin(df_porn[0]))].reset_index(drop=True)\n",
    "df_1notin2.to_csv(\"mal.txt\",index = False, header = 0)"
   ]
  },
  {
   "cell_type": "code",
   "execution_count": null,
   "metadata": {},
   "outputs": [],
   "source": []
  }
 ],
 "metadata": {
  "kernelspec": {
   "display_name": "Python 3",
   "language": "python",
   "name": "python3"
  },
  "language_info": {
   "codemirror_mode": {
    "name": "ipython",
    "version": 3
   },
   "file_extension": ".py",
   "mimetype": "text/x-python",
   "name": "python",
   "nbconvert_exporter": "python",
   "pygments_lexer": "ipython3",
   "version": "3.8.3"
  }
 },
 "nbformat": 4,
 "nbformat_minor": 4
}
